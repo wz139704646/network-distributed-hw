{
 "cells": [
  {
   "cell_type": "markdown",
   "metadata": {},
   "source": [
    "# 计算机网络作业题\n",
    "## 分别计算 C/S 和 P2P 两种方式分发文件时间"
   ]
  },
  {
   "cell_type": "code",
   "execution_count": 1,
   "metadata": {},
   "outputs": [],
   "source": [
    "import numpy as np\n",
    "import matplotlib\n",
    "import matplotlib.pyplot as plt"
   ]
  },
  {
   "cell_type": "code",
   "execution_count": 8,
   "metadata": {},
   "outputs": [],
   "source": [
    "def c_s_delivery(file_size, ser_up_sp, cli_down_sp):\n",
    "    # file_size: 文件大小\n",
    "    # ser_up_sp: 服务器上载速率\n",
    "    # cli_down_sp: 客户端下载速率，数组\n",
    "    n_clis = len(cli_down_sp) # 对等方个数\n",
    "    min_cli_sp = min(cli_down_sp)\n",
    "    t_ser_up = n_clis * file_size / ser_up_sp # 服务端需线性上载 n_clis 份文件的拷贝\n",
    "    t_cli_down = file_size / min_cli_sp # 客户端下载至少需要的时间\n",
    "    return max(t_ser_up, t_cli_down) # 总时间最低不低于\n",
    "\n",
    "def p2p_delivery(file_size, ser_up_sp, cli_down_sp, cli_up_sp):\n",
    "    # file_size: 文件大小\n",
    "    # ser_up_sp: 服务器上载速率\n",
    "    # cli_down_sp: 客户端下载速率，数组\n",
    "    # cli_up_sp: 客户端上载速率。数组\n",
    "    n_peers = len(cli_down_sp) # 对等方个数\n",
    "    min_cli_sp = min(cli_down_sp)\n",
    "    t_ser_up = file_size / ser_up_sp # 服务端最少需上传一份拷贝\n",
    "    t_cli_down = file_size / min_cli_sp # 客户端下载至少需要的时间\n",
    "    # 下载速率不好求，计算所有文件上载的最少时间\n",
    "    # 文件上载完才能下载完\n",
    "    t_up = n_peers * file_size / (ser_up_sp + sum(cli_up_sp))\n",
    "    return max(t_ser_up, t_cli_down, t_up) # 总时间不低于    "
   ]
  },
  {
   "cell_type": "code",
   "execution_count": 13,
   "metadata": {},
   "outputs": [
    {
     "name": "stdout",
     "output_type": "stream",
     "text": [
      "--------------------------------------------------\n",
      "N=10, u=0.29296875: \n",
      "C/S: 7680.0\n",
      "P2P: 7680.0\n",
      "--------------------------------------------------\n",
      "N=10, u=0.68359375: \n",
      "C/S: 7680.0\n",
      "P2P: 7680.0\n",
      "--------------------------------------------------\n",
      "N=10, u=2: \n",
      "C/S: 7680.0\n",
      "P2P: 7680.0\n",
      "--------------------------------------------------\n",
      "N=100, u=0.29296875: \n",
      "C/S: 51200.0\n",
      "P2P: 25903.557312252964\n",
      "--------------------------------------------------\n",
      "N=100, u=0.68359375: \n",
      "C/S: 51200.0\n",
      "P2P: 15616.203335980937\n",
      "--------------------------------------------------\n",
      "N=100, u=2: \n",
      "C/S: 51200.0\n",
      "P2P: 7680.0\n",
      "--------------------------------------------------\n",
      "N=1000, u=0.29296875: \n",
      "C/S: 512000.0\n",
      "P2P: 47558.78084179971\n",
      "--------------------------------------------------\n",
      "N=1000, u=0.68359375: \n",
      "C/S: 512000.0\n",
      "P2P: 21524.8522005693\n",
      "--------------------------------------------------\n",
      "N=1000, u=2: \n",
      "C/S: 512000.0\n",
      "P2P: 7680.0\n"
     ]
    }
   ],
   "source": [
    "file_size = 15 * 1024\n",
    "u_s = 30\n",
    "N_arr = [10, 100, 1000]\n",
    "d_cli = 2\n",
    "u_arr = [300/1024, 700/1024, 2]\n",
    "for N in N_arr:\n",
    "    for u in u_arr:\n",
    "        print('-'*50)\n",
    "        print(f'N={N}, u={u}: ')\n",
    "        \n",
    "        t_c_s = c_s_delivery(file_size, u_s, [d_cli]*N)\n",
    "        t_p2p = p2p_delivery(file_size, u_s, [d_cli]*N, [u]*N)\n",
    "        \n",
    "        print(f'C/S: {t_c_s}')\n",
    "        print(f'P2P: {t_p2p}')"
   ]
  }
 ],
 "metadata": {
  "kernelspec": {
   "display_name": "Python 3",
   "language": "python",
   "name": "python3"
  },
  "language_info": {
   "codemirror_mode": {
    "name": "ipython",
    "version": 3
   },
   "file_extension": ".py",
   "mimetype": "text/x-python",
   "name": "python",
   "nbconvert_exporter": "python",
   "pygments_lexer": "ipython3",
   "version": "3.6.8"
  }
 },
 "nbformat": 4,
 "nbformat_minor": 2
}
